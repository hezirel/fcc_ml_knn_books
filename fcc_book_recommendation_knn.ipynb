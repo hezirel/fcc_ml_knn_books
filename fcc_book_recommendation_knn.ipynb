{
 "cells": [
  {
   "cell_type": "code",
   "execution_count": null,
   "metadata": {
    "lines_to_next_cell": 0
   },
   "outputs": [],
   "source": [
    "import matplotlib.pyplot as plt"
   ]
  },
  {
   "cell_type": "code",
   "execution_count": null,
   "metadata": {
    "id": "Y1onB6kUvo4Z"
   },
   "outputs": [],
   "source": [
    "# import libraries (you may add additional imports but you may not have to)\n",
    "import numpy as np\n",
    "import pandas as pd\n",
    "from scipy.sparse import csr_matrix\n",
    "from sklearn.neighbors import NearestNeighbors"
   ]
  },
  {
   "cell_type": "code",
   "execution_count": null,
   "metadata": {
    "id": "iAQGqqO_vo4d"
   },
   "outputs": [],
   "source": [
    "# get data files\n",
    "!wget https://cdn.freecodecamp.org/project-data/books/book-crossings.zip\n",
    "\n",
    "!unzip book-crossings.zip\n",
    "\n",
    "users_filename = \"BX-Users.csv\"\n",
    "books_filename = \"BX-Books.csv\"\n",
    "ratings_filename = \"BX-Book-Ratings.csv\""
   ]
  },
  {
   "cell_type": "code",
   "execution_count": null,
   "metadata": {
    "id": "NClILWOiEd6Q"
   },
   "outputs": [],
   "source": [
    "# import csv data into dataframes\n",
    "df_users = pd.read_csv(\n",
    "    users_filename,\n",
    "    encoding=\"ISO-8859-1\",\n",
    "    sep=\";\",\n",
    "    header=0,\n",
    "    names=[\"user_id\", \"loc\", \"age\"],\n",
    "    usecols=[\"user_id\", \"loc\", \"age\"],\n",
    "    dtype={\"user_id\": \"int32\", \"loc\": \"str\", \"age\": \"Int32\"},\n",
    ")\n",
    "\n",
    "df_books = pd.read_csv(\n",
    "    books_filename,\n",
    "    encoding=\"ISO-8859-1\",\n",
    "    sep=\";\",\n",
    "    header=0,\n",
    "    names=[\"isbn\", \"title\", \"author\"],\n",
    "    usecols=[\"isbn\", \"title\", \"author\"],\n",
    "    dtype={\"isbn\": \"str\", \"title\": \"str\", \"author\": \"str\"},\n",
    ")\n",
    "\n",
    "df_ratings = pd.read_csv(\n",
    "    ratings_filename,\n",
    "    encoding=\"ISO-8859-1\",\n",
    "    sep=\";\",\n",
    "    header=0,\n",
    "    names=[\"user_id\", \"isbn\", \"rating\"],\n",
    "    usecols=[\"user_id\", \"isbn\", \"rating\"],\n",
    "    dtype={\"user_id\": \"int32\", \"isbn\": \"str\", \"rating\": \"int32\"},\n",
    ")"
   ]
  },
  {
   "cell_type": "code",
   "execution_count": null,
   "metadata": {
    "id": "xAcXjkCFCh0A",
    "lines_to_next_cell": 2
   },
   "outputs": [],
   "source": [
    "# add your code here - consider creating a new cell for each section of code\n",
    "\n",
    "\n",
    "def clean_dataframes(*dataframes):\n",
    "    for df in dataframes:\n",
    "        df.drop_duplicates(inplace=True)\n",
    "        df.dropna(inplace=True)\n",
    "\n",
    "\n",
    "clean_dataframes(df_users, df_books, df_ratings)\n",
    "# Drop duplicates titles and ISBNs\n",
    "df_books.drop_duplicates(subset=[\"title\", \"isbn\"], inplace=True)\n",
    "\n",
    "pd.set_option(\"display.max_columns\", None)\n",
    "user_counts = df_ratings[\"user_id\"].value_counts()\n",
    "isbn_counts = df_ratings[\"isbn\"].value_counts()\n",
    "\n",
    "frequent_users = user_counts[user_counts >= 200].index\n",
    "popular_books = isbn_counts[isbn_counts >= 100].index\n",
    "\n",
    "df_ratings = df_ratings[\n",
    "    df_ratings[\"user_id\"].isin(frequent_users) & df_ratings[\"isbn\"].isin(popular_books)\n",
    "]\n",
    "\n",
    "# Merge with df_books[popular_books] subset to get book titles\n",
    "df_ratings = pd.merge(\n",
    "    df_ratings, df_books[df_books[\"isbn\"].isin(popular_books)], on=\"isbn\"\n",
    ")\n",
    "\n",
    "assert df_ratings[\"rating\"].between(0, 10).all(), \"Ratings outside valid range\"\n",
    "assert df_ratings[\"user_id\"].isin(frequent_users).all(), \"Invalid user_id\"\n",
    "assert df_ratings[\"isbn\"].isin(popular_books).all(), \"Invalid ISBN\"\n",
    "\n",
    "# print(df_ratings[\"rating\"].describe())\n",
    "# Index(['user_id', 'isbn', 'rating', 'title', 'author'], dtype='object')"
   ]
  },
  {
   "cell_type": "code",
   "execution_count": null,
   "id": "2de680eb",
   "metadata": {
    "id": "f5ZUd-L1SQz7"
   },
   "outputs": [],
   "source": [
    "# function to return recommended books - this will be tested\n",
    "def get_recommends(book=\"\"):\n",
    "    knn = NearestNeighbors(metric=\"cosine\", n_jobs=-1)\n",
    "    pivot = df_ratings.pivot(index=\"isbn\", columns=\"user_id\", values=\"rating\").fillna(0)\n",
    "    model = knn.fit(pivot.values)\n",
    "\n",
    "    isbn = df_books[df_books[\"title\"] == book][\"isbn\"].values[0]\n",
    "    distances, isbns = model.kneighbors(\n",
    "        pivot.loc[isbn].values.reshape(1, -1), n_neighbors=6\n",
    "    )\n",
    "\n",
    "    rec = [\n",
    "        [title, distance]\n",
    "        for title, distance in zip(pivot.index[isbns[0]][1:], distances[0][1:])\n",
    "    ]\n",
    "    for i in range(5):\n",
    "        rec[i][0] = df_books[df_books[\"isbn\"] == rec[i][0]][\"title\"].values[0]\n",
    "\n",
    "    rec.sort(key=lambda x: x[1], reverse=True)\n",
    "\n",
    "    recommended_books = [book, rec]\n",
    "    return recommended_books"
   ]
  },
  {
   "cell_type": "code",
   "execution_count": null,
   "metadata": {
    "id": "jd2SLCh8oxMh"
   },
   "outputs": [],
   "source": [
    "books = get_recommends(\"Where the Heart Is (Oprah's Book Club (Paperback))\")\n",
    "print(books)\n",
    "\n",
    "\n",
    "def test_book_recommendation():\n",
    "    test_pass = True\n",
    "    recommends = get_recommends(\"Where the Heart Is (Oprah's Book Club (Paperback))\")\n",
    "    if recommends[0] != \"Where the Heart Is (Oprah's Book Club (Paperback))\":\n",
    "        test_pass = False\n",
    "    recommended_books = [\n",
    "        \"I'll Be Seeing You\",\n",
    "        \"The Weight of Water\",\n",
    "        \"The Surgeon\",\n",
    "        \"I Know This Much Is True\",\n",
    "    ]\n",
    "    recommended_books_dist = [0.8, 0.77, 0.77, 0.77]\n",
    "    for i in range(2):\n",
    "        if recommends[1][i][0] not in recommended_books:\n",
    "            test_pass = False\n",
    "        if abs(recommends[1][i][1] - recommended_books_dist[i]) >= 0.05:\n",
    "            test_pass = False\n",
    "    if test_pass:\n",
    "        print(\"You passed the challenge! 🎉🎉🎉🎉🎉\")\n",
    "    else:\n",
    "        print(\"You haven't passed yet. Keep trying!\")\n",
    "\n",
    "\n",
    "test_book_recommendation()"
   ]
  }
 ],
 "metadata": {
  "colab": {
   "name": "fcc_book_recommendation_knn.ipynb",
   "provenance": []
  },
  "jupytext": {
   "formats": "ipynb,py:percent"
  },
  "kernelspec": {
   "display_name": "Python 3",
   "language": "python",
   "name": "python3"
  },
  "language_info": {
   "codemirror_mode": {
    "name": "ipython",
    "version": 3
   },
   "file_extension": ".py",
   "mimetype": "text/x-python",
   "name": "python",
   "nbconvert_exporter": "python",
   "pygments_lexer": "ipython3",
   "version": "3.6.5"
  }
 },
 "nbformat": 4,
 "nbformat_minor": 0
}
